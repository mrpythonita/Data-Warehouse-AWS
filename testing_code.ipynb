{
 "cells": [
  {
   "cell_type": "code",
   "execution_count": 1,
   "metadata": {
    "editable": true
   },
   "outputs": [],
   "source": [
    "import configparser\n",
    "import psycopg2\n",
    "from sql_queries import create_table_queries, drop_table_queries"
   ]
  },
  {
   "cell_type": "code",
   "execution_count": 2,
   "metadata": {
    "editable": true
   },
   "outputs": [],
   "source": [
    "def drop_tables(cur, conn):\n",
    "    for query in drop_table_queries:\n",
    "        cur.execute(query)\n",
    "        conn.commit()"
   ]
  },
  {
   "cell_type": "code",
   "execution_count": 3,
   "metadata": {
    "editable": true
   },
   "outputs": [],
   "source": [
    "def create_tables(cur, conn):\n",
    "    for query in create_table_queries:\n",
    "        cur.execute(query)\n",
    "        conn.commit()\n",
    "\n",
    "\n",
    "def main():\n",
    "    config = configparser.ConfigParser()\n",
    "    config.read('dwh.cfg')\n",
    "\n",
    "    conn = psycopg2.connect(\"host={} dbname={} user={} password={} port={}\".format(*config['CLUSTER'].values()))\n",
    "    cur = conn.cursor()\n",
    "\n",
    "    drop_tables(cur, conn)\n",
    "    create_tables(cur, conn)\n",
    "\n",
    "    conn.close()\n",
    "\n",
    "\n",
    "if __name__ == \"__main__\":\n",
    "    main()"
   ]
  },
  {
   "cell_type": "code",
   "execution_count": 4,
   "metadata": {
    "editable": true
   },
   "outputs": [
    {
     "name": "stdout",
     "output_type": "stream",
     "text": [
      "\n",
      "CREATE TABLE staging_events(\n",
      "    event_id INT IDENTITY(0,1) PRIMARY KEY,\n",
      "    artist_name TEXT,\n",
      "    auth VARCHAR(50),\n",
      "    user_first_name TEXT,\n",
      "    user_gender  VARCHAR(1),\n",
      "    item_in_session INTEGER,\n",
      "    user_last_name TEXT,\n",
      "    song_length DOUBLE PRECISION, \n",
      "    user_level VARCHAR(50),\n",
      "    location TEXT,\n",
      "    method VARCHAR(25),\n",
      "    page VARCHAR(35),\n",
      "    registration VARCHAR(50),\n",
      "    session_id BIGINT,\n",
      "    song_title TEXT,\n",
      "    status INTEGER, \n",
      "    ts VARCHAR(50),\n",
      "    user_agent TEXT,\n",
      "    user_id VARCHAR(100)\n",
      "    )\n",
      "\n",
      "\n",
      "CREATE TABLE staging_songs(\n",
      "    song_id VARCHAR(100),\n",
      "    num_songs INTEGER PRIMARY KEY,\n",
      "    artist_id VARCHAR(100),\n",
      "    artist_latitude DOUBLE PRECISION,\n",
      "    artist_longitude DOUBLE PRECISION,\n",
      "    artist_location TEXT,\n",
      "    artist_name TEXT,\n",
      "    title TEXT,\n",
      "    duration DOUBLE PRECISION,\n",
      "    year INTEGER\n",
      "    )\n",
      "\n",
      "\n",
      "CREATE TABLE songplays(\n",
      "    songplay_id INT IDENTITY(0,1) PRIMARY KEY,\n",
      "    start_time TIMESTAMP,\n",
      "    user_id VARCHAR(50),\n",
      "    level VARCHAR(50),\n",
      "    song_id VARCHAR(100),\n",
      "    artist_id VARCHAR(100),\n",
      "    session_id BIGINT,\n",
      "    location TEXT,\n",
      "    user_agent TEXT\n",
      "    )\n",
      "\n",
      "\n",
      "CREATE TABLE users(\n",
      "    user_id VARCHAR PRIMARY KEY,\n",
      "    first_name TEXT,\n",
      "    last_name TEXT,\n",
      "    gender VARCHAR(1),\n",
      "    level VARCHAR(50)\n",
      "    )\n",
      "\n",
      "\n",
      "CREATE TABLE songs(\n",
      "    song_id VARCHAR(100) PRIMARY KEY,\n",
      "    title TEXT,\n",
      "    artist_id VARCHAR(100) NOT NULL,\n",
      "    year INTEGER,\n",
      "    duration DOUBLE PRECISION\n",
      "    )\n",
      "\n",
      "\n",
      "CREATE TABLE artists(\n",
      "    artist_id VARCHAR(100) PRIMARY KEY,\n",
      "    name TEXT,\n",
      "    location TEXT,\n",
      "    latitude DOUBLE PRECISION,\n",
      "    longitude DOUBLE PRECISION\n",
      "    )\n",
      "\n",
      "\n",
      "CREATE TABLE time(\n",
      "    start_time TIMESTAMP PRIMARY KEY,\n",
      "    hour INTEGER,\n",
      "    day INTEGER,\n",
      "    week INTEGER,\n",
      "    month INTEGER,\n",
      "    year INTEGER,\n",
      "    weekday INTEGER\n",
      "    )\n",
      "\n"
     ]
    }
   ],
   "source": [
    "from sql_queries import copy_table_queries, insert_table_queries\n",
    "\n",
    "for query in create_table_queries:\n",
    "    print(query)"
   ]
  },
  {
   "cell_type": "code",
   "execution_count": 5,
   "metadata": {
    "editable": true
   },
   "outputs": [],
   "source": [
    "from sql_queries import copy_table_queries, insert_table_queries\n",
    "\n",
    "\n",
    "def load_staging_tables(cur, conn):\n",
    "    for query in copy_table_queries:\n",
    "        cur.execute(query)\n",
    "        conn.commit()"
   ]
  },
  {
   "cell_type": "code",
   "execution_count": 6,
   "metadata": {
    "editable": true
   },
   "outputs": [],
   "source": [
    "def insert_tables(cur, conn):\n",
    "    for query in insert_table_queries:\n",
    "        cur.execute(query)\n",
    "        conn.commit()"
   ]
  },
  {
   "cell_type": "code",
   "execution_count": 7,
   "metadata": {
    "editable": true
   },
   "outputs": [],
   "source": [
    "def main():\n",
    "    config = configparser.ConfigParser()\n",
    "    config.read('dwh.cfg')\n",
    "\n",
    "    conn = psycopg2.connect(\"host={} dbname={} user={} password={} port={}\".format(*config['CLUSTER'].values()))\n",
    "    cur = conn.cursor()\n",
    "    \n",
    "    load_staging_tables(cur, conn)\n",
    "    insert_tables(cur, conn)\n",
    "\n",
    "    conn.close()\n",
    "\n",
    "\n",
    "if __name__ == \"__main__\":\n",
    "    main()"
   ]
  },
  {
   "cell_type": "code",
   "execution_count": null,
   "metadata": {
    "editable": true
   },
   "outputs": [],
   "source": []
  }
 ],
 "metadata": {
  "kernelspec": {
   "display_name": "Python 3",
   "language": "python",
   "name": "python3"
  },
  "language_info": {
   "codemirror_mode": {
    "name": "ipython",
    "version": 3
   },
   "file_extension": ".py",
   "mimetype": "text/x-python",
   "name": "python",
   "nbconvert_exporter": "python",
   "pygments_lexer": "ipython3",
   "version": "3.6.3"
  }
 },
 "nbformat": 4,
 "nbformat_minor": 4
}
